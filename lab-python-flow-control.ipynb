{
 "cells": [
  {
   "cell_type": "markdown",
   "id": "d3bfc191-8885-42ee-b0a0-bbab867c6f9f",
   "metadata": {
    "tags": []
   },
   "source": [
    "# Lab | Flow Control"
   ]
  },
  {
   "cell_type": "markdown",
   "id": "3851fcd1-cf98-4653-9c89-e003b7ec9400",
   "metadata": {},
   "source": [
    "## Exercise: Managing Customer Orders Optimized\n",
    "\n",
    "In the last lab, you were starting an online store that sells various products. To ensure smooth operations, you developed a program that manages customer orders and inventory.\n",
    "\n",
    "You did so without using flow control. Let's go a step further and improve this code.\n",
    "\n",
    "Follow the steps below to complete the exercise:\n",
    "\n",
    "1. Look at your code from the lab data structures, and improve repeated code with loops.\n",
    "\n",
    "2. Instead of asking the user to input the name of three products that a customer wants to order, do the following:\n",
    "    \n",
    "    a. Prompt the user to enter the name of a product that a customer wants to order.\n",
    "    \n",
    "    b. Add the product name to the \"customer_orders\" set.\n",
    "    \n",
    "    c. Ask the user if they want to add another product (yes/no).\n",
    "    \n",
    "    d. Continue the loop until the user does not want to add another product.\n",
    "\n",
    "3. Instead of updating the inventory by subtracting 1 from the quantity of each product, only do it for  the products that were ordered (those in \"customer_orders\")."
   ]
  },
  {
   "cell_type": "code",
   "execution_count": 14,
   "id": "0e2637db",
   "metadata": {},
   "outputs": [
    {
     "name": "stdout",
     "output_type": "stream",
     "text": [
      "{'t-shirt': 5, 'mug': 6, 'hat': 7, 'book': 4, 'keychain': 7}\n",
      "{'hat', 't-shirt'}\n",
      "Customer ordered : {'hat', 't-shirt'}\n",
      "There is 2 items in the basket\n",
      "hat 0.14 %\n",
      "t-shirt 0.2 %\n",
      "[5, 6, 7, 4, 7]\n",
      "2\n",
      "29\n",
      "(2, '0.06')\n",
      "Order statistics:\n",
      "Total Products Ordered : 2\n",
      "Percentage of products ordered :6.0%\n",
      "t-shirt in stock is : 4\n",
      "mug in stock is : 6\n",
      "hat in stock is : 6\n",
      "book in stock is : 4\n",
      "keychain in stock is : 7\n"
     ]
    }
   ],
   "source": [
    "#Q1\n",
    "products=[\"t-shirt\",\"mug\",\"hat\",\"book\",\"keychain\"] \n",
    "#Q2\n",
    "inventory={}\n",
    "#Q3\n",
    "for i in products:\n",
    "    inventory[i]=int(input(\"Enter a quantity of :\"+i))\n",
    "    \n",
    "print(inventory)\n",
    "\n",
    "#Q4\n",
    "customer_orders=set()\n",
    "#Q5 lab1:\n",
    "# for i in range (0,3):\n",
    "#    customer_orders.add(input(f\"enter a product from the list : {products}\"))\n",
    "\n",
    "ordering=True\n",
    "while bool(ordering):\n",
    "    customer_orders.add(input(f\"enter a product from the list : {products}\"))\n",
    "    continue_ordering=(input(\"Yes / No\"))\n",
    "    continue_ordering=continue_ordering.upper()\n",
    "    if continue_ordering!= \"YES\":\n",
    "         break\n",
    "print(customer_orders)\n",
    "\n",
    "#Q6\n",
    "print ( f\"Customer ordered : {customer_orders}\")\n",
    "\n",
    "#Q7 a.\n",
    "print(\"There is \"+ str(len(customer_orders)) + \" items in the basket\")\n",
    "\n",
    "#Q7 b.\n",
    "for item in customer_orders:\n",
    "    \n",
    "    order_ratio=( str (int (100*1/int(inventory[item]) )/100) +\" %\" )\n",
    "    \n",
    "    print(item + \" \"+ str(order_ratio))\n",
    "\n",
    "list_products=list()\n",
    "for i in products:\n",
    "        list_products.append(int(inventory[i]))\n",
    "print(list_products)\n",
    "print(len(customer_orders))\n",
    "print(sum(list_products))\n",
    "order_status=(len(customer_orders),str( int(100*len(customer_orders)/sum(list_products) )/100 ))\n",
    "print(order_status)\n",
    "#Q8\n",
    "print(\"Order statistics:\")\n",
    "print(\"Total Products Ordered : \"+ str(len(customer_orders)))\n",
    "print(f\"Percentage of products ordered :\" +  str(100*float(order_status[1])) +\"%\")\n",
    "#Q9\n",
    "new_inventory=inventory\n",
    "for i in customer_orders:\n",
    "    new_inventory[i]-=1\n",
    "\n",
    "#Q10\n",
    "for i in new_inventory:\n",
    "    print(i +\" in stock is : \"+ str(new_inventory[i]))"
   ]
  },
  {
   "cell_type": "markdown",
   "id": "2f0b3b17",
   "metadata": {},
   "source": []
  }
 ],
 "metadata": {
  "kernelspec": {
   "display_name": "Python 3 (ipykernel)",
   "language": "python",
   "name": "python3"
  },
  "language_info": {
   "codemirror_mode": {
    "name": "ipython",
    "version": 3
   },
   "file_extension": ".py",
   "mimetype": "text/x-python",
   "name": "python",
   "nbconvert_exporter": "python",
   "pygments_lexer": "ipython3",
   "version": "3.9.6"
  }
 },
 "nbformat": 4,
 "nbformat_minor": 5
}
